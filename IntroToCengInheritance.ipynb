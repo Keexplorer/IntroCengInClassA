{
  "nbformat": 4,
  "nbformat_minor": 0,
  "metadata": {
    "colab": {
      "name": "IntroToCengInheritance.ipynb",
      "provenance": []
    },
    "kernelspec": {
      "name": "python3",
      "display_name": "Python 3"
    },
    "language_info": {
      "name": "python"
    }
  },
  "cells": [
    {
      "cell_type": "code",
      "execution_count": 12,
      "metadata": {
        "id": "c45lOrX9WLAB"
      },
      "outputs": [],
      "source": [
        "class Person:\n",
        "  def __init__(self, name, lastname, age):\n",
        "    self.name = name\n",
        "    self.lastname = lastname\n",
        "    self.age = age\n",
        "  \n",
        "  def walk(self):\n",
        "    print(\"Hello world, I am walking\")\n",
        "  \n",
        "  def talk(self):\n",
        "    print(\"Hey I can walk!\")\n",
        "\n",
        "class Student(Person):\n",
        "  def __init__(self, studentID, department):\n",
        "    self.studentID = studentID\n",
        "    self.department = department\n",
        "    super().__init__(\"Eyup\", \"Cinar\", 18)\n",
        "    \n",
        "  \n",
        "  def study(self):\n",
        "    print('Hey I am studying .. ')\n",
        "\n",
        "  def takeExam(self):\n",
        "    print(\"Hey I just took the exam and it was hard!\")"
      ]
    },
    {
      "cell_type": "code",
      "source": [
        "var1 = Student(152120201220, \"Computer Engineering\")\n",
        "\n",
        "print(help(Student))\n"
      ],
      "metadata": {
        "colab": {
          "base_uri": "https://localhost:8080/"
        },
        "id": "m9Ph4jl7XpU7",
        "outputId": "9bb9b69b-b0b9-4dbe-ceca-c0bcae0b78d6"
      },
      "execution_count": 19,
      "outputs": [
        {
          "output_type": "stream",
          "name": "stdout",
          "text": [
            "Help on class Student in module __main__:\n",
            "\n",
            "class Student(Person)\n",
            " |  Student(studentID, department)\n",
            " |  \n",
            " |  Method resolution order:\n",
            " |      Student\n",
            " |      Person\n",
            " |      builtins.object\n",
            " |  \n",
            " |  Methods defined here:\n",
            " |  \n",
            " |  __init__(self, studentID, department)\n",
            " |      Initialize self.  See help(type(self)) for accurate signature.\n",
            " |  \n",
            " |  study(self)\n",
            " |  \n",
            " |  takeExam(self)\n",
            " |  \n",
            " |  ----------------------------------------------------------------------\n",
            " |  Methods inherited from Person:\n",
            " |  \n",
            " |  talk(self)\n",
            " |  \n",
            " |  walk(self)\n",
            " |  \n",
            " |  ----------------------------------------------------------------------\n",
            " |  Data descriptors inherited from Person:\n",
            " |  \n",
            " |  __dict__\n",
            " |      dictionary for instance variables (if defined)\n",
            " |  \n",
            " |  __weakref__\n",
            " |      list of weak references to the object (if defined)\n",
            "\n",
            "None\n"
          ]
        }
      ]
    }
  ]
}